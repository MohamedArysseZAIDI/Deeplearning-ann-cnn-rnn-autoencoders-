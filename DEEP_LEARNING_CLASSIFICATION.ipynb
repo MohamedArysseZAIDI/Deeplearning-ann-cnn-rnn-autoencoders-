{
 "cells": [
  {
   "cell_type": "code",
   "execution_count": 1,
   "metadata": {},
   "outputs": [],
   "source": [
    "import numpy as np\n",
    "import pandas as pd\n",
    "import matplotlib.pyplot as plt\n",
    "import seaborn as sns"
   ]
  },
  {
   "cell_type": "code",
   "execution_count": 2,
   "metadata": {},
   "outputs": [],
   "source": [
    "data_info=pd.read_csv('DATA/lending_club_info.csv',index_col='LoanStatNew')\n",
    "df=pd.read_csv('DATA/lending_club_loan_two.csv')"
   ]
  },
  {
   "cell_type": "code",
   "execution_count": 4,
   "metadata": {},
   "outputs": [
    {
     "name": "stdout",
     "output_type": "stream",
     "text": [
      "<class 'pandas.core.frame.DataFrame'>\n",
      "RangeIndex: 396030 entries, 0 to 396029\n",
      "Data columns (total 27 columns):\n",
      " #   Column                Non-Null Count   Dtype  \n",
      "---  ------                --------------   -----  \n",
      " 0   loan_amnt             396030 non-null  float64\n",
      " 1   term                  396030 non-null  object \n",
      " 2   int_rate              396030 non-null  float64\n",
      " 3   installment           396030 non-null  float64\n",
      " 4   grade                 396030 non-null  object \n",
      " 5   sub_grade             396030 non-null  object \n",
      " 6   emp_title             373103 non-null  object \n",
      " 7   emp_length            377729 non-null  object \n",
      " 8   home_ownership        396030 non-null  object \n",
      " 9   annual_inc            396030 non-null  float64\n",
      " 10  verification_status   396030 non-null  object \n",
      " 11  issue_d               396030 non-null  object \n",
      " 12  loan_status           396030 non-null  object \n",
      " 13  purpose               396030 non-null  object \n",
      " 14  title                 394275 non-null  object \n",
      " 15  dti                   396030 non-null  float64\n",
      " 16  earliest_cr_line      396030 non-null  object \n",
      " 17  open_acc              396030 non-null  float64\n",
      " 18  pub_rec               396030 non-null  float64\n",
      " 19  revol_bal             396030 non-null  float64\n",
      " 20  revol_util            395754 non-null  float64\n",
      " 21  total_acc             396030 non-null  float64\n",
      " 22  initial_list_status   396030 non-null  object \n",
      " 23  application_type      396030 non-null  object \n",
      " 24  mort_acc              358235 non-null  float64\n",
      " 25  pub_rec_bankruptcies  395495 non-null  float64\n",
      " 26  address               396030 non-null  object \n",
      "dtypes: float64(12), object(15)\n",
      "memory usage: 81.6+ MB\n"
     ]
    }
   ],
   "source": [
    "df.info()"
   ]
  },
  {
   "cell_type": "code",
   "execution_count": 8,
   "metadata": {},
   "outputs": [
    {
     "data": {
      "text/plain": [
       "array(['Fully Paid', 'Charged Off'], dtype=object)"
      ]
     },
     "execution_count": 8,
     "metadata": {},
     "output_type": "execute_result"
    }
   ],
   "source": [
    "df['loan_status'].unique()"
   ]
  },
  {
   "cell_type": "code",
   "execution_count": 3,
   "metadata": {},
   "outputs": [
    {
     "data": {
      "text/plain": [
       "Index(['loan_amnt', 'term', 'int_rate', 'installment', 'grade', 'sub_grade',\n",
       "       'emp_title', 'emp_length', 'home_ownership', 'annual_inc',\n",
       "       'verification_status', 'issue_d', 'loan_status', 'purpose', 'title',\n",
       "       'zip_code', 'addr_state', 'dti', 'earliest_cr_line', 'open_acc',\n",
       "       'pub_rec', 'revol_bal', 'revol_util', 'total_acc',\n",
       "       'initial_list_status', 'application_type', 'mort_acc',\n",
       "       'pub_rec_bankruptcies'],\n",
       "      dtype='object', name='LoanStatNew')"
      ]
     },
     "execution_count": 3,
     "metadata": {},
     "output_type": "execute_result"
    }
   ],
   "source": [
    "def feat_info(col_name):\n",
    "    print(data_info.loc[col_name]['Description'])\n",
    "data_info.transpose().columns"
   ]
  },
  {
   "cell_type": "code",
   "execution_count": 4,
   "metadata": {},
   "outputs": [
    {
     "data": {
      "text/plain": [
       "396030"
      ]
     },
     "execution_count": 4,
     "metadata": {},
     "output_type": "execute_result"
    }
   ],
   "source": [
    "len(df)"
   ]
  },
  {
   "cell_type": "code",
   "execution_count": 5,
   "metadata": {},
   "outputs": [
    {
     "name": "stdout",
     "output_type": "stream",
     "text": [
      "Number of mortgage accounts.\n"
     ]
    }
   ],
   "source": [
    "feat_info('mort_acc')"
   ]
  },
  {
   "cell_type": "code",
   "execution_count": 6,
   "metadata": {},
   "outputs": [
    {
     "data": {
      "text/plain": [
       "loan_amnt                   0\n",
       "term                        0\n",
       "int_rate                    0\n",
       "installment                 0\n",
       "grade                       0\n",
       "sub_grade                   0\n",
       "emp_title               22927\n",
       "emp_length              18301\n",
       "home_ownership              0\n",
       "annual_inc                  0\n",
       "verification_status         0\n",
       "issue_d                     0\n",
       "loan_status                 0\n",
       "purpose                     0\n",
       "title                    1755\n",
       "dti                         0\n",
       "earliest_cr_line            0\n",
       "open_acc                    0\n",
       "pub_rec                     0\n",
       "revol_bal                   0\n",
       "revol_util                276\n",
       "total_acc                   0\n",
       "initial_list_status         0\n",
       "application_type            0\n",
       "mort_acc                37795\n",
       "pub_rec_bankruptcies      535\n",
       "address                     0\n",
       "dtype: int64"
      ]
     },
     "execution_count": 6,
     "metadata": {},
     "output_type": "execute_result"
    }
   ],
   "source": [
    "df.isnull().sum()"
   ]
  },
  {
   "cell_type": "code",
   "execution_count": 7,
   "metadata": {},
   "outputs": [
    {
     "data": {
      "text/plain": [
       "Fully Paid     318357\n",
       "Charged Off     77673\n",
       "Name: loan_status, dtype: int64"
      ]
     },
     "execution_count": 7,
     "metadata": {},
     "output_type": "execute_result"
    }
   ],
   "source": [
    "df['loan_status'].value_counts()"
   ]
  },
  {
   "cell_type": "code",
   "execution_count": 8,
   "metadata": {},
   "outputs": [],
   "source": [
    "def loan(some_text) :\n",
    "    if some_text=='Fully Paid':\n",
    "        return 1\n",
    "    else:\n",
    "        return 0"
   ]
  },
  {
   "cell_type": "code",
   "execution_count": 9,
   "metadata": {},
   "outputs": [],
   "source": [
    "df['loan_status']=df['loan_status'].apply(loan)\n",
    "#1=Fully paid/ 0=Chared Off"
   ]
  },
  {
   "cell_type": "code",
   "execution_count": 10,
   "metadata": {},
   "outputs": [
    {
     "data": {
      "text/html": [
       "<div>\n",
       "<style scoped>\n",
       "    .dataframe tbody tr th:only-of-type {\n",
       "        vertical-align: middle;\n",
       "    }\n",
       "\n",
       "    .dataframe tbody tr th {\n",
       "        vertical-align: top;\n",
       "    }\n",
       "\n",
       "    .dataframe thead th {\n",
       "        text-align: right;\n",
       "    }\n",
       "</style>\n",
       "<table border=\"1\" class=\"dataframe\">\n",
       "  <thead>\n",
       "    <tr style=\"text-align: right;\">\n",
       "      <th></th>\n",
       "      <th>loan_amnt</th>\n",
       "      <th>term</th>\n",
       "      <th>int_rate</th>\n",
       "      <th>installment</th>\n",
       "      <th>grade</th>\n",
       "      <th>sub_grade</th>\n",
       "      <th>emp_title</th>\n",
       "      <th>emp_length</th>\n",
       "      <th>home_ownership</th>\n",
       "      <th>annual_inc</th>\n",
       "      <th>...</th>\n",
       "      <th>open_acc</th>\n",
       "      <th>pub_rec</th>\n",
       "      <th>revol_bal</th>\n",
       "      <th>revol_util</th>\n",
       "      <th>total_acc</th>\n",
       "      <th>initial_list_status</th>\n",
       "      <th>application_type</th>\n",
       "      <th>mort_acc</th>\n",
       "      <th>pub_rec_bankruptcies</th>\n",
       "      <th>address</th>\n",
       "    </tr>\n",
       "  </thead>\n",
       "  <tbody>\n",
       "    <tr>\n",
       "      <th>0</th>\n",
       "      <td>10000.0</td>\n",
       "      <td>36 months</td>\n",
       "      <td>11.44</td>\n",
       "      <td>329.48</td>\n",
       "      <td>B</td>\n",
       "      <td>B4</td>\n",
       "      <td>Marketing</td>\n",
       "      <td>10+ years</td>\n",
       "      <td>RENT</td>\n",
       "      <td>117000.0</td>\n",
       "      <td>...</td>\n",
       "      <td>16.0</td>\n",
       "      <td>0.0</td>\n",
       "      <td>36369.0</td>\n",
       "      <td>41.8</td>\n",
       "      <td>25.0</td>\n",
       "      <td>w</td>\n",
       "      <td>INDIVIDUAL</td>\n",
       "      <td>0.0</td>\n",
       "      <td>0.0</td>\n",
       "      <td>0174 Michelle Gateway\\r\\nMendozaberg, OK 22690</td>\n",
       "    </tr>\n",
       "    <tr>\n",
       "      <th>1</th>\n",
       "      <td>8000.0</td>\n",
       "      <td>36 months</td>\n",
       "      <td>11.99</td>\n",
       "      <td>265.68</td>\n",
       "      <td>B</td>\n",
       "      <td>B5</td>\n",
       "      <td>Credit analyst</td>\n",
       "      <td>4 years</td>\n",
       "      <td>MORTGAGE</td>\n",
       "      <td>65000.0</td>\n",
       "      <td>...</td>\n",
       "      <td>17.0</td>\n",
       "      <td>0.0</td>\n",
       "      <td>20131.0</td>\n",
       "      <td>53.3</td>\n",
       "      <td>27.0</td>\n",
       "      <td>f</td>\n",
       "      <td>INDIVIDUAL</td>\n",
       "      <td>3.0</td>\n",
       "      <td>0.0</td>\n",
       "      <td>1076 Carney Fort Apt. 347\\r\\nLoganmouth, SD 05113</td>\n",
       "    </tr>\n",
       "    <tr>\n",
       "      <th>2</th>\n",
       "      <td>15600.0</td>\n",
       "      <td>36 months</td>\n",
       "      <td>10.49</td>\n",
       "      <td>506.97</td>\n",
       "      <td>B</td>\n",
       "      <td>B3</td>\n",
       "      <td>Statistician</td>\n",
       "      <td>&lt; 1 year</td>\n",
       "      <td>RENT</td>\n",
       "      <td>43057.0</td>\n",
       "      <td>...</td>\n",
       "      <td>13.0</td>\n",
       "      <td>0.0</td>\n",
       "      <td>11987.0</td>\n",
       "      <td>92.2</td>\n",
       "      <td>26.0</td>\n",
       "      <td>f</td>\n",
       "      <td>INDIVIDUAL</td>\n",
       "      <td>0.0</td>\n",
       "      <td>0.0</td>\n",
       "      <td>87025 Mark Dale Apt. 269\\r\\nNew Sabrina, WV 05113</td>\n",
       "    </tr>\n",
       "    <tr>\n",
       "      <th>3</th>\n",
       "      <td>7200.0</td>\n",
       "      <td>36 months</td>\n",
       "      <td>6.49</td>\n",
       "      <td>220.65</td>\n",
       "      <td>A</td>\n",
       "      <td>A2</td>\n",
       "      <td>Client Advocate</td>\n",
       "      <td>6 years</td>\n",
       "      <td>RENT</td>\n",
       "      <td>54000.0</td>\n",
       "      <td>...</td>\n",
       "      <td>6.0</td>\n",
       "      <td>0.0</td>\n",
       "      <td>5472.0</td>\n",
       "      <td>21.5</td>\n",
       "      <td>13.0</td>\n",
       "      <td>f</td>\n",
       "      <td>INDIVIDUAL</td>\n",
       "      <td>0.0</td>\n",
       "      <td>0.0</td>\n",
       "      <td>823 Reid Ford\\r\\nDelacruzside, MA 00813</td>\n",
       "    </tr>\n",
       "    <tr>\n",
       "      <th>4</th>\n",
       "      <td>24375.0</td>\n",
       "      <td>60 months</td>\n",
       "      <td>17.27</td>\n",
       "      <td>609.33</td>\n",
       "      <td>C</td>\n",
       "      <td>C5</td>\n",
       "      <td>Destiny Management Inc.</td>\n",
       "      <td>9 years</td>\n",
       "      <td>MORTGAGE</td>\n",
       "      <td>55000.0</td>\n",
       "      <td>...</td>\n",
       "      <td>13.0</td>\n",
       "      <td>0.0</td>\n",
       "      <td>24584.0</td>\n",
       "      <td>69.8</td>\n",
       "      <td>43.0</td>\n",
       "      <td>f</td>\n",
       "      <td>INDIVIDUAL</td>\n",
       "      <td>1.0</td>\n",
       "      <td>0.0</td>\n",
       "      <td>679 Luna Roads\\r\\nGreggshire, VA 11650</td>\n",
       "    </tr>\n",
       "    <tr>\n",
       "      <th>...</th>\n",
       "      <td>...</td>\n",
       "      <td>...</td>\n",
       "      <td>...</td>\n",
       "      <td>...</td>\n",
       "      <td>...</td>\n",
       "      <td>...</td>\n",
       "      <td>...</td>\n",
       "      <td>...</td>\n",
       "      <td>...</td>\n",
       "      <td>...</td>\n",
       "      <td>...</td>\n",
       "      <td>...</td>\n",
       "      <td>...</td>\n",
       "      <td>...</td>\n",
       "      <td>...</td>\n",
       "      <td>...</td>\n",
       "      <td>...</td>\n",
       "      <td>...</td>\n",
       "      <td>...</td>\n",
       "      <td>...</td>\n",
       "      <td>...</td>\n",
       "    </tr>\n",
       "    <tr>\n",
       "      <th>396025</th>\n",
       "      <td>10000.0</td>\n",
       "      <td>60 months</td>\n",
       "      <td>10.99</td>\n",
       "      <td>217.38</td>\n",
       "      <td>B</td>\n",
       "      <td>B4</td>\n",
       "      <td>licensed bankere</td>\n",
       "      <td>2 years</td>\n",
       "      <td>RENT</td>\n",
       "      <td>40000.0</td>\n",
       "      <td>...</td>\n",
       "      <td>6.0</td>\n",
       "      <td>0.0</td>\n",
       "      <td>1990.0</td>\n",
       "      <td>34.3</td>\n",
       "      <td>23.0</td>\n",
       "      <td>w</td>\n",
       "      <td>INDIVIDUAL</td>\n",
       "      <td>0.0</td>\n",
       "      <td>0.0</td>\n",
       "      <td>12951 Williams Crossing\\r\\nJohnnyville, DC 30723</td>\n",
       "    </tr>\n",
       "    <tr>\n",
       "      <th>396026</th>\n",
       "      <td>21000.0</td>\n",
       "      <td>36 months</td>\n",
       "      <td>12.29</td>\n",
       "      <td>700.42</td>\n",
       "      <td>C</td>\n",
       "      <td>C1</td>\n",
       "      <td>Agent</td>\n",
       "      <td>5 years</td>\n",
       "      <td>MORTGAGE</td>\n",
       "      <td>110000.0</td>\n",
       "      <td>...</td>\n",
       "      <td>6.0</td>\n",
       "      <td>0.0</td>\n",
       "      <td>43263.0</td>\n",
       "      <td>95.7</td>\n",
       "      <td>8.0</td>\n",
       "      <td>f</td>\n",
       "      <td>INDIVIDUAL</td>\n",
       "      <td>1.0</td>\n",
       "      <td>0.0</td>\n",
       "      <td>0114 Fowler Field Suite 028\\r\\nRachelborough, ...</td>\n",
       "    </tr>\n",
       "    <tr>\n",
       "      <th>396027</th>\n",
       "      <td>5000.0</td>\n",
       "      <td>36 months</td>\n",
       "      <td>9.99</td>\n",
       "      <td>161.32</td>\n",
       "      <td>B</td>\n",
       "      <td>B1</td>\n",
       "      <td>City Carrier</td>\n",
       "      <td>10+ years</td>\n",
       "      <td>RENT</td>\n",
       "      <td>56500.0</td>\n",
       "      <td>...</td>\n",
       "      <td>15.0</td>\n",
       "      <td>0.0</td>\n",
       "      <td>32704.0</td>\n",
       "      <td>66.9</td>\n",
       "      <td>23.0</td>\n",
       "      <td>f</td>\n",
       "      <td>INDIVIDUAL</td>\n",
       "      <td>0.0</td>\n",
       "      <td>0.0</td>\n",
       "      <td>953 Matthew Points Suite 414\\r\\nReedfort, NY 7...</td>\n",
       "    </tr>\n",
       "    <tr>\n",
       "      <th>396028</th>\n",
       "      <td>21000.0</td>\n",
       "      <td>60 months</td>\n",
       "      <td>15.31</td>\n",
       "      <td>503.02</td>\n",
       "      <td>C</td>\n",
       "      <td>C2</td>\n",
       "      <td>Gracon Services, Inc</td>\n",
       "      <td>10+ years</td>\n",
       "      <td>MORTGAGE</td>\n",
       "      <td>64000.0</td>\n",
       "      <td>...</td>\n",
       "      <td>9.0</td>\n",
       "      <td>0.0</td>\n",
       "      <td>15704.0</td>\n",
       "      <td>53.8</td>\n",
       "      <td>20.0</td>\n",
       "      <td>f</td>\n",
       "      <td>INDIVIDUAL</td>\n",
       "      <td>5.0</td>\n",
       "      <td>0.0</td>\n",
       "      <td>7843 Blake Freeway Apt. 229\\r\\nNew Michael, FL...</td>\n",
       "    </tr>\n",
       "    <tr>\n",
       "      <th>396029</th>\n",
       "      <td>2000.0</td>\n",
       "      <td>36 months</td>\n",
       "      <td>13.61</td>\n",
       "      <td>67.98</td>\n",
       "      <td>C</td>\n",
       "      <td>C2</td>\n",
       "      <td>Internal Revenue Service</td>\n",
       "      <td>10+ years</td>\n",
       "      <td>RENT</td>\n",
       "      <td>42996.0</td>\n",
       "      <td>...</td>\n",
       "      <td>3.0</td>\n",
       "      <td>0.0</td>\n",
       "      <td>4292.0</td>\n",
       "      <td>91.3</td>\n",
       "      <td>19.0</td>\n",
       "      <td>f</td>\n",
       "      <td>INDIVIDUAL</td>\n",
       "      <td>NaN</td>\n",
       "      <td>0.0</td>\n",
       "      <td>787 Michelle Causeway\\r\\nBriannaton, AR 48052</td>\n",
       "    </tr>\n",
       "  </tbody>\n",
       "</table>\n",
       "<p>396030 rows × 27 columns</p>\n",
       "</div>"
      ],
      "text/plain": [
       "        loan_amnt        term  int_rate  installment grade sub_grade  \\\n",
       "0         10000.0   36 months     11.44       329.48     B        B4   \n",
       "1          8000.0   36 months     11.99       265.68     B        B5   \n",
       "2         15600.0   36 months     10.49       506.97     B        B3   \n",
       "3          7200.0   36 months      6.49       220.65     A        A2   \n",
       "4         24375.0   60 months     17.27       609.33     C        C5   \n",
       "...           ...         ...       ...          ...   ...       ...   \n",
       "396025    10000.0   60 months     10.99       217.38     B        B4   \n",
       "396026    21000.0   36 months     12.29       700.42     C        C1   \n",
       "396027     5000.0   36 months      9.99       161.32     B        B1   \n",
       "396028    21000.0   60 months     15.31       503.02     C        C2   \n",
       "396029     2000.0   36 months     13.61        67.98     C        C2   \n",
       "\n",
       "                       emp_title emp_length home_ownership  annual_inc  ...  \\\n",
       "0                      Marketing  10+ years           RENT    117000.0  ...   \n",
       "1                Credit analyst     4 years       MORTGAGE     65000.0  ...   \n",
       "2                   Statistician   < 1 year           RENT     43057.0  ...   \n",
       "3                Client Advocate    6 years           RENT     54000.0  ...   \n",
       "4        Destiny Management Inc.    9 years       MORTGAGE     55000.0  ...   \n",
       "...                          ...        ...            ...         ...  ...   \n",
       "396025          licensed bankere    2 years           RENT     40000.0  ...   \n",
       "396026                     Agent    5 years       MORTGAGE    110000.0  ...   \n",
       "396027              City Carrier  10+ years           RENT     56500.0  ...   \n",
       "396028      Gracon Services, Inc  10+ years       MORTGAGE     64000.0  ...   \n",
       "396029  Internal Revenue Service  10+ years           RENT     42996.0  ...   \n",
       "\n",
       "       open_acc pub_rec  revol_bal revol_util total_acc  initial_list_status  \\\n",
       "0          16.0     0.0    36369.0       41.8      25.0                    w   \n",
       "1          17.0     0.0    20131.0       53.3      27.0                    f   \n",
       "2          13.0     0.0    11987.0       92.2      26.0                    f   \n",
       "3           6.0     0.0     5472.0       21.5      13.0                    f   \n",
       "4          13.0     0.0    24584.0       69.8      43.0                    f   \n",
       "...         ...     ...        ...        ...       ...                  ...   \n",
       "396025      6.0     0.0     1990.0       34.3      23.0                    w   \n",
       "396026      6.0     0.0    43263.0       95.7       8.0                    f   \n",
       "396027     15.0     0.0    32704.0       66.9      23.0                    f   \n",
       "396028      9.0     0.0    15704.0       53.8      20.0                    f   \n",
       "396029      3.0     0.0     4292.0       91.3      19.0                    f   \n",
       "\n",
       "       application_type  mort_acc  pub_rec_bankruptcies  \\\n",
       "0            INDIVIDUAL       0.0                   0.0   \n",
       "1            INDIVIDUAL       3.0                   0.0   \n",
       "2            INDIVIDUAL       0.0                   0.0   \n",
       "3            INDIVIDUAL       0.0                   0.0   \n",
       "4            INDIVIDUAL       1.0                   0.0   \n",
       "...                 ...       ...                   ...   \n",
       "396025       INDIVIDUAL       0.0                   0.0   \n",
       "396026       INDIVIDUAL       1.0                   0.0   \n",
       "396027       INDIVIDUAL       0.0                   0.0   \n",
       "396028       INDIVIDUAL       5.0                   0.0   \n",
       "396029       INDIVIDUAL       NaN                   0.0   \n",
       "\n",
       "                                                  address  \n",
       "0          0174 Michelle Gateway\\r\\nMendozaberg, OK 22690  \n",
       "1       1076 Carney Fort Apt. 347\\r\\nLoganmouth, SD 05113  \n",
       "2       87025 Mark Dale Apt. 269\\r\\nNew Sabrina, WV 05113  \n",
       "3                 823 Reid Ford\\r\\nDelacruzside, MA 00813  \n",
       "4                  679 Luna Roads\\r\\nGreggshire, VA 11650  \n",
       "...                                                   ...  \n",
       "396025   12951 Williams Crossing\\r\\nJohnnyville, DC 30723  \n",
       "396026  0114 Fowler Field Suite 028\\r\\nRachelborough, ...  \n",
       "396027  953 Matthew Points Suite 414\\r\\nReedfort, NY 7...  \n",
       "396028  7843 Blake Freeway Apt. 229\\r\\nNew Michael, FL...  \n",
       "396029      787 Michelle Causeway\\r\\nBriannaton, AR 48052  \n",
       "\n",
       "[396030 rows x 27 columns]"
      ]
     },
     "execution_count": 10,
     "metadata": {},
     "output_type": "execute_result"
    }
   ],
   "source": [
    "df"
   ]
  },
  {
   "cell_type": "code",
   "execution_count": 11,
   "metadata": {},
   "outputs": [
    {
     "data": {
      "text/plain": [
       "Index(['loan_amnt', 'term', 'int_rate', 'installment', 'grade', 'sub_grade',\n",
       "       'emp_title', 'emp_length', 'home_ownership', 'annual_inc',\n",
       "       'verification_status', 'issue_d', 'loan_status', 'purpose', 'title',\n",
       "       'dti', 'earliest_cr_line', 'open_acc', 'pub_rec', 'revol_bal',\n",
       "       'revol_util', 'total_acc', 'initial_list_status', 'application_type',\n",
       "       'mort_acc', 'pub_rec_bankruptcies', 'address'],\n",
       "      dtype='object')"
      ]
     },
     "execution_count": 11,
     "metadata": {},
     "output_type": "execute_result"
    }
   ],
   "source": [
    "df[df['mort_acc'].isna()].columns"
   ]
  },
  {
   "cell_type": "code",
   "execution_count": 12,
   "metadata": {},
   "outputs": [],
   "source": [
    "total_acc_avg = df.groupby('total_acc').mean()['mort_acc']"
   ]
  },
  {
   "cell_type": "code",
   "execution_count": 13,
   "metadata": {},
   "outputs": [],
   "source": [
    "def fill_mort_acc(total_acc,mort_acc):\n",
    "    if np.isnan(mort_acc):\n",
    "        return total_acc_avg[total_acc]\n",
    "    else:\n",
    "        return mort_acc"
   ]
  },
  {
   "cell_type": "code",
   "execution_count": 14,
   "metadata": {},
   "outputs": [],
   "source": [
    "df['mort_acc'] = df.apply(lambda x: fill_mort_acc(x['total_acc'], x['mort_acc']), axis=1)"
   ]
  },
  {
   "cell_type": "code",
   "execution_count": 15,
   "metadata": {},
   "outputs": [
    {
     "data": {
      "text/plain": [
       "loan_amnt                   0\n",
       "term                        0\n",
       "int_rate                    0\n",
       "installment                 0\n",
       "grade                       0\n",
       "sub_grade                   0\n",
       "emp_title               22927\n",
       "emp_length              18301\n",
       "home_ownership              0\n",
       "annual_inc                  0\n",
       "verification_status         0\n",
       "issue_d                     0\n",
       "loan_status                 0\n",
       "purpose                     0\n",
       "title                    1755\n",
       "dti                         0\n",
       "earliest_cr_line            0\n",
       "open_acc                    0\n",
       "pub_rec                     0\n",
       "revol_bal                   0\n",
       "revol_util                276\n",
       "total_acc                   0\n",
       "initial_list_status         0\n",
       "application_type            0\n",
       "mort_acc                    0\n",
       "pub_rec_bankruptcies      535\n",
       "address                     0\n",
       "dtype: int64"
      ]
     },
     "execution_count": 15,
     "metadata": {},
     "output_type": "execute_result"
    }
   ],
   "source": [
    "df.isnull().sum()"
   ]
  },
  {
   "cell_type": "code",
   "execution_count": 16,
   "metadata": {},
   "outputs": [],
   "source": [
    "df=df.drop('emp_title',axis=1)"
   ]
  },
  {
   "cell_type": "code",
   "execution_count": 17,
   "metadata": {},
   "outputs": [
    {
     "data": {
      "text/plain": [
       "array(['10+ years', '4 years', '< 1 year', '6 years', '9 years',\n",
       "       '2 years', '3 years', '8 years', '7 years', '5 years', '1 year',\n",
       "       nan], dtype=object)"
      ]
     },
     "execution_count": 17,
     "metadata": {},
     "output_type": "execute_result"
    }
   ],
   "source": [
    "df['emp_length'].unique()"
   ]
  },
  {
   "cell_type": "code",
   "execution_count": 18,
   "metadata": {},
   "outputs": [],
   "source": [
    "di={    '10+ years':10,\n",
    "        '4 years' : 4,\n",
    "        '< 1 year' : 0,\n",
    "        '6 years' : 6,\n",
    "        '9 years' : 9,\n",
    "        '2 years' : 2,\n",
    "        '3 years' : 3,\n",
    "        '8 years' : 8,\n",
    "        '7 years' : 7,\n",
    "        '5 years' : 5,\n",
    "        '1 year' : 1}"
   ]
  },
  {
   "cell_type": "code",
   "execution_count": 19,
   "metadata": {},
   "outputs": [],
   "source": [
    "df=df.replace({'emp_length': di})"
   ]
  },
  {
   "cell_type": "code",
   "execution_count": 20,
   "metadata": {},
   "outputs": [
    {
     "data": {
      "text/plain": [
       "emp_length              1.000000\n",
       "mort_acc                0.198174\n",
       "total_acc               0.117836\n",
       "loan_amnt               0.100087\n",
       "installment             0.088601\n",
       "revol_bal               0.087731\n",
       "annual_inc              0.067569\n",
       "open_acc                0.043565\n",
       "dti                     0.041697\n",
       "pub_rec_bankruptcies    0.038690\n",
       "revol_util              0.038223\n",
       "pub_rec                 0.037494\n",
       "loan_status             0.013734\n",
       "int_rate                0.012464\n",
       "Name: emp_length, dtype: float64"
      ]
     },
     "execution_count": 20,
     "metadata": {},
     "output_type": "execute_result"
    }
   ],
   "source": [
    "df.corr()['emp_length'].sort_values(ascending=False)"
   ]
  },
  {
   "cell_type": "code",
   "execution_count": 21,
   "metadata": {},
   "outputs": [],
   "source": [
    "df=df.drop('emp_length',axis=1)"
   ]
  },
  {
   "cell_type": "code",
   "execution_count": 22,
   "metadata": {},
   "outputs": [],
   "source": [
    "df=df.drop('title',axis=1)"
   ]
  },
  {
   "cell_type": "code",
   "execution_count": 23,
   "metadata": {},
   "outputs": [
    {
     "data": {
      "text/plain": [
       "revol_bal              -0.124532\n",
       "loan_amnt              -0.106539\n",
       "installment            -0.098628\n",
       "revol_util             -0.086751\n",
       "annual_inc             -0.050162\n",
       "open_acc               -0.027732\n",
       "dti                    -0.014558\n",
       "loan_status            -0.009383\n",
       "mort_acc                0.029276\n",
       "total_acc               0.042035\n",
       "int_rate                0.057450\n",
       "pub_rec                 0.699408\n",
       "pub_rec_bankruptcies    1.000000\n",
       "Name: pub_rec_bankruptcies, dtype: float64"
      ]
     },
     "execution_count": 23,
     "metadata": {},
     "output_type": "execute_result"
    }
   ],
   "source": [
    "df.corr()['pub_rec_bankruptcies'].sort_values()"
   ]
  },
  {
   "cell_type": "code",
   "execution_count": 24,
   "metadata": {},
   "outputs": [],
   "source": [
    "total_pub_rec_bankrupt = df.groupby('pub_rec').mean()['pub_rec_bankruptcies']"
   ]
  },
  {
   "cell_type": "code",
   "execution_count": 25,
   "metadata": {},
   "outputs": [
    {
     "data": {
      "text/plain": [
       "pub_rec\n",
       "0.0     0.000000\n",
       "1.0     0.810205\n",
       "2.0     0.929863\n",
       "3.0     1.074293\n",
       "4.0     1.136622\n",
       "5.0     1.113924\n",
       "6.0     0.983607\n",
       "7.0     0.821429\n",
       "8.0     1.235294\n",
       "9.0     1.250000\n",
       "10.0    0.363636\n",
       "11.0    0.000000\n",
       "12.0    1.000000\n",
       "13.0    0.500000\n",
       "15.0    0.000000\n",
       "17.0    1.000000\n",
       "19.0    1.000000\n",
       "24.0    0.000000\n",
       "40.0    1.000000\n",
       "86.0    1.000000\n",
       "Name: pub_rec_bankruptcies, dtype: float64"
      ]
     },
     "execution_count": 25,
     "metadata": {},
     "output_type": "execute_result"
    }
   ],
   "source": [
    "total_pub_rec_bankrupt"
   ]
  },
  {
   "cell_type": "code",
   "execution_count": 26,
   "metadata": {},
   "outputs": [],
   "source": [
    "def fill_pub_rec_bank(pub_rec,pub_rec_bankruptcies):\n",
    "    if np.isnan(pub_rec_bankruptcies):\n",
    "        return total_pub_rec_bankrupt[pub_rec]\n",
    "    else:\n",
    "        return pub_rec_bankruptcies"
   ]
  },
  {
   "cell_type": "code",
   "execution_count": 27,
   "metadata": {},
   "outputs": [],
   "source": [
    "df['pub_rec_bankruptcies'] = df.apply(lambda x: fill_pub_rec_bank(x['pub_rec'], x['pub_rec_bankruptcies']), axis=1)"
   ]
  },
  {
   "cell_type": "code",
   "execution_count": 28,
   "metadata": {},
   "outputs": [
    {
     "data": {
      "text/plain": [
       "revol_util              1.000000\n",
       "int_rate                0.293659\n",
       "revol_bal               0.226346\n",
       "installment             0.123915\n",
       "loan_amnt               0.099911\n",
       "dti                     0.088375\n",
       "annual_inc              0.027871\n",
       "mort_acc                0.005821\n",
       "pub_rec                -0.075910\n",
       "loan_status            -0.082373\n",
       "pub_rec_bankruptcies   -0.086387\n",
       "total_acc              -0.104273\n",
       "open_acc               -0.131420\n",
       "Name: revol_util, dtype: float64"
      ]
     },
     "execution_count": 28,
     "metadata": {},
     "output_type": "execute_result"
    }
   ],
   "source": [
    "df.corr()['revol_util'].sort_values(ascending=False)"
   ]
  },
  {
   "cell_type": "code",
   "execution_count": 29,
   "metadata": {},
   "outputs": [],
   "source": [
    "df=df.dropna()"
   ]
  },
  {
   "cell_type": "code",
   "execution_count": 30,
   "metadata": {},
   "outputs": [
    {
     "data": {
      "text/plain": [
       "Index(['loan_amnt', 'term', 'int_rate', 'installment', 'grade', 'sub_grade',\n",
       "       'home_ownership', 'annual_inc', 'verification_status', 'issue_d',\n",
       "       'loan_status', 'purpose', 'dti', 'earliest_cr_line', 'open_acc',\n",
       "       'pub_rec', 'revol_bal', 'revol_util', 'total_acc',\n",
       "       'initial_list_status', 'application_type', 'mort_acc',\n",
       "       'pub_rec_bankruptcies', 'address'],\n",
       "      dtype='object')"
      ]
     },
     "execution_count": 30,
     "metadata": {},
     "output_type": "execute_result"
    }
   ],
   "source": [
    "df.columns"
   ]
  },
  {
   "cell_type": "code",
   "execution_count": 31,
   "metadata": {},
   "outputs": [
    {
     "data": {
      "text/plain": [
       "loan_amnt              -0.059907\n",
       "int_rate               -0.247782\n",
       "installment            -0.041143\n",
       "annual_inc              0.053446\n",
       "loan_status             1.000000\n",
       "dti                    -0.062431\n",
       "open_acc               -0.028158\n",
       "pub_rec                -0.019951\n",
       "revol_bal               0.010782\n",
       "revol_util             -0.082373\n",
       "total_acc               0.017792\n",
       "mort_acc                0.068791\n",
       "pub_rec_bankruptcies   -0.009470\n",
       "Name: loan_status, dtype: float64"
      ]
     },
     "execution_count": 31,
     "metadata": {},
     "output_type": "execute_result"
    }
   ],
   "source": [
    "df.corr()['loan_status']"
   ]
  },
  {
   "cell_type": "code",
   "execution_count": 32,
   "metadata": {},
   "outputs": [
    {
     "data": {
      "text/plain": [
       "0          36 months\n",
       "1          36 months\n",
       "2          36 months\n",
       "3          36 months\n",
       "4          60 months\n",
       "             ...    \n",
       "396025     60 months\n",
       "396026     36 months\n",
       "396027     36 months\n",
       "396028     60 months\n",
       "396029     36 months\n",
       "Name: term, Length: 395754, dtype: object"
      ]
     },
     "execution_count": 32,
     "metadata": {},
     "output_type": "execute_result"
    }
   ],
   "source": [
    "df['term']"
   ]
  },
  {
   "cell_type": "code",
   "execution_count": 33,
   "metadata": {},
   "outputs": [],
   "source": [
    "def termfct(some_text) :\n",
    "    if some_text==' 36 months':\n",
    "        return 0\n",
    "    else:\n",
    "        return 1\n",
    "#0 : 36 months / 1 : 60 months"
   ]
  },
  {
   "cell_type": "code",
   "execution_count": 34,
   "metadata": {},
   "outputs": [],
   "source": [
    "df['term'] = df['term'].apply(termfct)"
   ]
  },
  {
   "cell_type": "code",
   "execution_count": 35,
   "metadata": {},
   "outputs": [],
   "source": [
    "df=df.drop('grade',axis=1)"
   ]
  },
  {
   "cell_type": "code",
   "execution_count": 36,
   "metadata": {},
   "outputs": [],
   "source": [
    "subgrade_dummies = pd.get_dummies(df['sub_grade'],drop_first=True)"
   ]
  },
  {
   "cell_type": "code",
   "execution_count": 37,
   "metadata": {},
   "outputs": [],
   "source": [
    "df = pd.concat([df.drop('sub_grade',axis=1),subgrade_dummies],axis=1)"
   ]
  },
  {
   "cell_type": "code",
   "execution_count": 38,
   "metadata": {},
   "outputs": [
    {
     "data": {
      "text/plain": [
       "(395754, 56)"
      ]
     },
     "execution_count": 38,
     "metadata": {},
     "output_type": "execute_result"
    }
   ],
   "source": [
    "df.shape"
   ]
  },
  {
   "cell_type": "code",
   "execution_count": 39,
   "metadata": {},
   "outputs": [
    {
     "data": {
      "text/plain": [
       "Index(['loan_amnt', 'term', 'int_rate', 'installment', 'home_ownership',\n",
       "       'annual_inc', 'verification_status', 'issue_d', 'loan_status',\n",
       "       'purpose', 'dti', 'earliest_cr_line', 'open_acc', 'pub_rec',\n",
       "       'revol_bal', 'revol_util', 'total_acc', 'initial_list_status',\n",
       "       'application_type', 'mort_acc', 'pub_rec_bankruptcies', 'address', 'A2',\n",
       "       'A3', 'A4', 'A5', 'B1', 'B2', 'B3', 'B4', 'B5', 'C1', 'C2', 'C3', 'C4',\n",
       "       'C5', 'D1', 'D2', 'D3', 'D4', 'D5', 'E1', 'E2', 'E3', 'E4', 'E5', 'F1',\n",
       "       'F2', 'F3', 'F4', 'F5', 'G1', 'G2', 'G3', 'G4', 'G5'],\n",
       "      dtype='object')"
      ]
     },
     "execution_count": 39,
     "metadata": {},
     "output_type": "execute_result"
    }
   ],
   "source": [
    "df.columns"
   ]
  },
  {
   "cell_type": "code",
   "execution_count": 40,
   "metadata": {},
   "outputs": [
    {
     "data": {
      "text/html": [
       "<div>\n",
       "<style scoped>\n",
       "    .dataframe tbody tr th:only-of-type {\n",
       "        vertical-align: middle;\n",
       "    }\n",
       "\n",
       "    .dataframe tbody tr th {\n",
       "        vertical-align: top;\n",
       "    }\n",
       "\n",
       "    .dataframe thead th {\n",
       "        text-align: right;\n",
       "    }\n",
       "</style>\n",
       "<table border=\"1\" class=\"dataframe\">\n",
       "  <thead>\n",
       "    <tr style=\"text-align: right;\">\n",
       "      <th></th>\n",
       "      <th>loan_amnt</th>\n",
       "      <th>term</th>\n",
       "      <th>int_rate</th>\n",
       "      <th>installment</th>\n",
       "      <th>home_ownership</th>\n",
       "      <th>annual_inc</th>\n",
       "      <th>verification_status</th>\n",
       "      <th>issue_d</th>\n",
       "      <th>loan_status</th>\n",
       "      <th>purpose</th>\n",
       "      <th>...</th>\n",
       "      <th>F1</th>\n",
       "      <th>F2</th>\n",
       "      <th>F3</th>\n",
       "      <th>F4</th>\n",
       "      <th>F5</th>\n",
       "      <th>G1</th>\n",
       "      <th>G2</th>\n",
       "      <th>G3</th>\n",
       "      <th>G4</th>\n",
       "      <th>G5</th>\n",
       "    </tr>\n",
       "  </thead>\n",
       "  <tbody>\n",
       "    <tr>\n",
       "      <th>0</th>\n",
       "      <td>10000.0</td>\n",
       "      <td>0</td>\n",
       "      <td>11.44</td>\n",
       "      <td>329.48</td>\n",
       "      <td>RENT</td>\n",
       "      <td>117000.0</td>\n",
       "      <td>Not Verified</td>\n",
       "      <td>Jan-2015</td>\n",
       "      <td>1</td>\n",
       "      <td>vacation</td>\n",
       "      <td>...</td>\n",
       "      <td>0</td>\n",
       "      <td>0</td>\n",
       "      <td>0</td>\n",
       "      <td>0</td>\n",
       "      <td>0</td>\n",
       "      <td>0</td>\n",
       "      <td>0</td>\n",
       "      <td>0</td>\n",
       "      <td>0</td>\n",
       "      <td>0</td>\n",
       "    </tr>\n",
       "    <tr>\n",
       "      <th>1</th>\n",
       "      <td>8000.0</td>\n",
       "      <td>0</td>\n",
       "      <td>11.99</td>\n",
       "      <td>265.68</td>\n",
       "      <td>MORTGAGE</td>\n",
       "      <td>65000.0</td>\n",
       "      <td>Not Verified</td>\n",
       "      <td>Jan-2015</td>\n",
       "      <td>1</td>\n",
       "      <td>debt_consolidation</td>\n",
       "      <td>...</td>\n",
       "      <td>0</td>\n",
       "      <td>0</td>\n",
       "      <td>0</td>\n",
       "      <td>0</td>\n",
       "      <td>0</td>\n",
       "      <td>0</td>\n",
       "      <td>0</td>\n",
       "      <td>0</td>\n",
       "      <td>0</td>\n",
       "      <td>0</td>\n",
       "    </tr>\n",
       "    <tr>\n",
       "      <th>2</th>\n",
       "      <td>15600.0</td>\n",
       "      <td>0</td>\n",
       "      <td>10.49</td>\n",
       "      <td>506.97</td>\n",
       "      <td>RENT</td>\n",
       "      <td>43057.0</td>\n",
       "      <td>Source Verified</td>\n",
       "      <td>Jan-2015</td>\n",
       "      <td>1</td>\n",
       "      <td>credit_card</td>\n",
       "      <td>...</td>\n",
       "      <td>0</td>\n",
       "      <td>0</td>\n",
       "      <td>0</td>\n",
       "      <td>0</td>\n",
       "      <td>0</td>\n",
       "      <td>0</td>\n",
       "      <td>0</td>\n",
       "      <td>0</td>\n",
       "      <td>0</td>\n",
       "      <td>0</td>\n",
       "    </tr>\n",
       "    <tr>\n",
       "      <th>3</th>\n",
       "      <td>7200.0</td>\n",
       "      <td>0</td>\n",
       "      <td>6.49</td>\n",
       "      <td>220.65</td>\n",
       "      <td>RENT</td>\n",
       "      <td>54000.0</td>\n",
       "      <td>Not Verified</td>\n",
       "      <td>Nov-2014</td>\n",
       "      <td>1</td>\n",
       "      <td>credit_card</td>\n",
       "      <td>...</td>\n",
       "      <td>0</td>\n",
       "      <td>0</td>\n",
       "      <td>0</td>\n",
       "      <td>0</td>\n",
       "      <td>0</td>\n",
       "      <td>0</td>\n",
       "      <td>0</td>\n",
       "      <td>0</td>\n",
       "      <td>0</td>\n",
       "      <td>0</td>\n",
       "    </tr>\n",
       "    <tr>\n",
       "      <th>4</th>\n",
       "      <td>24375.0</td>\n",
       "      <td>1</td>\n",
       "      <td>17.27</td>\n",
       "      <td>609.33</td>\n",
       "      <td>MORTGAGE</td>\n",
       "      <td>55000.0</td>\n",
       "      <td>Verified</td>\n",
       "      <td>Apr-2013</td>\n",
       "      <td>0</td>\n",
       "      <td>credit_card</td>\n",
       "      <td>...</td>\n",
       "      <td>0</td>\n",
       "      <td>0</td>\n",
       "      <td>0</td>\n",
       "      <td>0</td>\n",
       "      <td>0</td>\n",
       "      <td>0</td>\n",
       "      <td>0</td>\n",
       "      <td>0</td>\n",
       "      <td>0</td>\n",
       "      <td>0</td>\n",
       "    </tr>\n",
       "  </tbody>\n",
       "</table>\n",
       "<p>5 rows × 56 columns</p>\n",
       "</div>"
      ],
      "text/plain": [
       "   loan_amnt  term  int_rate  installment home_ownership  annual_inc  \\\n",
       "0    10000.0     0     11.44       329.48           RENT    117000.0   \n",
       "1     8000.0     0     11.99       265.68       MORTGAGE     65000.0   \n",
       "2    15600.0     0     10.49       506.97           RENT     43057.0   \n",
       "3     7200.0     0      6.49       220.65           RENT     54000.0   \n",
       "4    24375.0     1     17.27       609.33       MORTGAGE     55000.0   \n",
       "\n",
       "  verification_status   issue_d  loan_status             purpose  ...  F1 F2  \\\n",
       "0        Not Verified  Jan-2015            1            vacation  ...   0  0   \n",
       "1        Not Verified  Jan-2015            1  debt_consolidation  ...   0  0   \n",
       "2     Source Verified  Jan-2015            1         credit_card  ...   0  0   \n",
       "3        Not Verified  Nov-2014            1         credit_card  ...   0  0   \n",
       "4            Verified  Apr-2013            0         credit_card  ...   0  0   \n",
       "\n",
       "   F3  F4  F5  G1  G2 G3 G4  G5  \n",
       "0   0   0   0   0   0  0  0   0  \n",
       "1   0   0   0   0   0  0  0   0  \n",
       "2   0   0   0   0   0  0  0   0  \n",
       "3   0   0   0   0   0  0  0   0  \n",
       "4   0   0   0   0   0  0  0   0  \n",
       "\n",
       "[5 rows x 56 columns]"
      ]
     },
     "execution_count": 40,
     "metadata": {},
     "output_type": "execute_result"
    }
   ],
   "source": [
    "df.head()"
   ]
  },
  {
   "cell_type": "code",
   "execution_count": 41,
   "metadata": {},
   "outputs": [],
   "source": [
    "df = df.drop(['verification_status', 'application_type','initial_list_status','purpose'],axis=1)"
   ]
  },
  {
   "cell_type": "code",
   "execution_count": 42,
   "metadata": {},
   "outputs": [],
   "source": [
    "df['home_ownership']=df['home_ownership'].replace(['NONE', 'ANY'], 'OTHER')\n",
    "\n",
    "dummies = pd.get_dummies(df['home_ownership'],drop_first=True)\n",
    "df = df.drop('home_ownership',axis=1)\n",
    "df = pd.concat([df,dummies],axis=1)"
   ]
  },
  {
   "cell_type": "code",
   "execution_count": 43,
   "metadata": {},
   "outputs": [],
   "source": [
    "df['zip_code'] = df['address'].apply(lambda address:address[-5:])"
   ]
  },
  {
   "cell_type": "code",
   "execution_count": 44,
   "metadata": {},
   "outputs": [],
   "source": [
    "dummies = pd.get_dummies(df['zip_code'],drop_first=True)\n",
    "df = df.drop(['zip_code','address'],axis=1)\n",
    "df = pd.concat([df,dummies],axis=1)"
   ]
  },
  {
   "cell_type": "code",
   "execution_count": 45,
   "metadata": {},
   "outputs": [],
   "source": [
    "df = df.drop('issue_d',axis=1)"
   ]
  },
  {
   "cell_type": "code",
   "execution_count": 46,
   "metadata": {},
   "outputs": [],
   "source": [
    "df['earliest_cr_year'] = df['earliest_cr_line'].apply(lambda date:int(date[-4:]))\n",
    "df = df.drop('earliest_cr_line',axis=1)"
   ]
  },
  {
   "cell_type": "code",
   "execution_count": 47,
   "metadata": {},
   "outputs": [],
   "source": [
    "from sklearn.model_selection import train_test_split"
   ]
  },
  {
   "cell_type": "code",
   "execution_count": 48,
   "metadata": {},
   "outputs": [],
   "source": [
    "X=df.drop('loan_status',axis=1).values\n",
    "y=df['loan_status'].values"
   ]
  },
  {
   "cell_type": "code",
   "execution_count": 49,
   "metadata": {},
   "outputs": [],
   "source": [
    "X_train, X_test, y_train, y_test = train_test_split( X, y, test_size=0.2, random_state=101)"
   ]
  },
  {
   "cell_type": "code",
   "execution_count": 50,
   "metadata": {},
   "outputs": [],
   "source": [
    "from sklearn.preprocessing import MinMaxScaler"
   ]
  },
  {
   "cell_type": "code",
   "execution_count": 51,
   "metadata": {},
   "outputs": [],
   "source": [
    "scaler=MinMaxScaler()"
   ]
  },
  {
   "cell_type": "code",
   "execution_count": 52,
   "metadata": {},
   "outputs": [],
   "source": [
    "X_train = scaler.fit_transform(X_train)\n",
    "X_test= scaler.transform(X_test)"
   ]
  },
  {
   "cell_type": "code",
   "execution_count": 53,
   "metadata": {},
   "outputs": [],
   "source": [
    "from tensorflow.keras.models import Sequential\n",
    "from tensorflow.keras.layers import Dense,Dropout"
   ]
  },
  {
   "cell_type": "code",
   "execution_count": 54,
   "metadata": {},
   "outputs": [
    {
     "data": {
      "text/plain": [
       "(316603, 60)"
      ]
     },
     "execution_count": 54,
     "metadata": {},
     "output_type": "execute_result"
    }
   ],
   "source": [
    "X_train.shape"
   ]
  },
  {
   "cell_type": "code",
   "execution_count": 55,
   "metadata": {},
   "outputs": [],
   "source": [
    "model = Sequential()\n",
    "\n",
    "# https://stats.stackexchange.com/questions/181/how-to-choose-the-number-of-hidden-layers-and-nodes-in-a-feedforward-neural-netw\n",
    "\n",
    "\n",
    "# input layer\n",
    "model.add(Dense(60,  activation='relu'))\n",
    "model.add(Dropout(0.2))\n",
    "\n",
    "# hidden layer\n",
    "model.add(Dense(39, activation='relu'))\n",
    "model.add(Dropout(0.2))\n",
    "\n",
    "# hidden layer\n",
    "model.add(Dense(19, activation='relu'))\n",
    "model.add(Dropout(0.2))\n",
    "\n",
    "# output layer\n",
    "model.add(Dense(units=1,activation='sigmoid'))\n",
    "\n",
    "# Compile model\n",
    "model.compile(loss='binary_crossentropy', optimizer='adam')"
   ]
  },
  {
   "cell_type": "code",
   "execution_count": 56,
   "metadata": {},
   "outputs": [],
   "source": [
    "from tensorflow.keras.callbacks import EarlyStopping"
   ]
  },
  {
   "cell_type": "code",
   "execution_count": 57,
   "metadata": {},
   "outputs": [],
   "source": [
    "early_stop=EarlyStopping(monitor='val_loss',mode='min',verbose=1,patience=25)"
   ]
  },
  {
   "cell_type": "code",
   "execution_count": 58,
   "metadata": {},
   "outputs": [
    {
     "name": "stdout",
     "output_type": "stream",
     "text": [
      "Epoch 1/600\n",
      "1237/1237 [==============================] - 7s 5ms/step - loss: 0.3044 - val_loss: 0.2624\n",
      "Epoch 2/600\n",
      "1237/1237 [==============================] - 6s 5ms/step - loss: 0.2670 - val_loss: 0.2607\n",
      "Epoch 3/600\n",
      "1237/1237 [==============================] - 6s 5ms/step - loss: 0.2646 - val_loss: 0.2603\n",
      "Epoch 4/600\n",
      "1237/1237 [==============================] - 6s 5ms/step - loss: 0.2630 - val_loss: 0.2596\n",
      "Epoch 5/600\n",
      "1237/1237 [==============================] - 5s 4ms/step - loss: 0.2622 - val_loss: 0.2595\n",
      "Epoch 6/600\n",
      "1237/1237 [==============================] - 5s 4ms/step - loss: 0.2616 - val_loss: 0.2592\n",
      "Epoch 7/600\n",
      "1237/1237 [==============================] - 6s 5ms/step - loss: 0.2612 - val_loss: 0.2598\n",
      "Epoch 8/600\n",
      "1237/1237 [==============================] - 6s 5ms/step - loss: 0.2609 - val_loss: 0.2590\n",
      "Epoch 9/600\n",
      "1237/1237 [==============================] - 6s 5ms/step - loss: 0.2604 - val_loss: 0.2585\n",
      "Epoch 10/600\n",
      "1237/1237 [==============================] - 6s 5ms/step - loss: 0.2601 - val_loss: 0.2586\n",
      "Epoch 11/600\n",
      "1237/1237 [==============================] - 6s 5ms/step - loss: 0.2599 - val_loss: 0.2582\n",
      "Epoch 12/600\n",
      "1237/1237 [==============================] - 6s 5ms/step - loss: 0.2597 - val_loss: 0.2588\n",
      "Epoch 13/600\n",
      "1237/1237 [==============================] - 5s 4ms/step - loss: 0.2596 - val_loss: 0.2589\n",
      "Epoch 14/600\n",
      "1237/1237 [==============================] - 6s 5ms/step - loss: 0.2592 - val_loss: 0.2583\n",
      "Epoch 15/600\n",
      "1237/1237 [==============================] - 6s 5ms/step - loss: 0.2592 - val_loss: 0.2576\n",
      "Epoch 16/600\n",
      "1237/1237 [==============================] - 6s 5ms/step - loss: 0.2589 - val_loss: 0.2577\n",
      "Epoch 17/600\n",
      "1237/1237 [==============================] - 6s 5ms/step - loss: 0.2587 - val_loss: 0.2577\n",
      "Epoch 18/600\n",
      "1237/1237 [==============================] - 6s 5ms/step - loss: 0.2586 - val_loss: 0.2576\n",
      "Epoch 19/600\n",
      "1237/1237 [==============================] - 6s 5ms/step - loss: 0.2585 - val_loss: 0.2571\n",
      "Epoch 20/600\n",
      "1237/1237 [==============================] - 5s 4ms/step - loss: 0.2585 - val_loss: 0.2571\n",
      "Epoch 21/600\n",
      "1237/1237 [==============================] - 5s 4ms/step - loss: 0.2581 - val_loss: 0.2574\n",
      "Epoch 22/600\n",
      "1237/1237 [==============================] - 5s 4ms/step - loss: 0.2582 - val_loss: 0.2576\n",
      "Epoch 23/600\n",
      "1237/1237 [==============================] - 5s 4ms/step - loss: 0.2579 - val_loss: 0.2570\n",
      "Epoch 24/600\n",
      "1237/1237 [==============================] - 5s 4ms/step - loss: 0.2580 - val_loss: 0.2569\n",
      "Epoch 25/600\n",
      "1237/1237 [==============================] - 6s 5ms/step - loss: 0.2579 - val_loss: 0.2572\n",
      "Epoch 26/600\n",
      "1237/1237 [==============================] - 6s 5ms/step - loss: 0.2579 - val_loss: 0.2568\n",
      "Epoch 27/600\n",
      "1237/1237 [==============================] - 6s 5ms/step - loss: 0.2579 - val_loss: 0.2572\n",
      "Epoch 28/600\n",
      "1237/1237 [==============================] - 6s 5ms/step - loss: 0.2575 - val_loss: 0.2573\n",
      "Epoch 29/600\n",
      "1237/1237 [==============================] - 6s 5ms/step - loss: 0.2574 - val_loss: 0.2571\n",
      "Epoch 30/600\n",
      "1237/1237 [==============================] - 6s 5ms/step - loss: 0.2574 - val_loss: 0.2568\n",
      "Epoch 31/600\n",
      "1237/1237 [==============================] - 5s 4ms/step - loss: 0.2575 - val_loss: 0.2570\n",
      "Epoch 32/600\n",
      "1237/1237 [==============================] - 6s 5ms/step - loss: 0.2574 - val_loss: 0.2571\n",
      "Epoch 33/600\n",
      "1237/1237 [==============================] - 6s 5ms/step - loss: 0.2575 - val_loss: 0.2569\n",
      "Epoch 34/600\n",
      "1237/1237 [==============================] - 6s 5ms/step - loss: 0.2572 - val_loss: 0.2573\n",
      "Epoch 35/600\n",
      "1237/1237 [==============================] - 6s 5ms/step - loss: 0.2574 - val_loss: 0.2573\n",
      "Epoch 36/600\n",
      "1237/1237 [==============================] - 6s 5ms/step - loss: 0.2572 - val_loss: 0.2578\n",
      "Epoch 37/600\n",
      "1237/1237 [==============================] - 6s 5ms/step - loss: 0.2572 - val_loss: 0.2571\n",
      "Epoch 38/600\n",
      "1237/1237 [==============================] - 6s 5ms/step - loss: 0.2568 - val_loss: 0.2569\n",
      "Epoch 39/600\n",
      "1237/1237 [==============================] - 6s 5ms/step - loss: 0.2569 - val_loss: 0.2576\n",
      "Epoch 40/600\n",
      "1237/1237 [==============================] - 6s 5ms/step - loss: 0.2567 - val_loss: 0.2567\n",
      "Epoch 41/600\n",
      "1237/1237 [==============================] - 6s 5ms/step - loss: 0.2567 - val_loss: 0.2568\n",
      "Epoch 42/600\n",
      "1237/1237 [==============================] - 6s 5ms/step - loss: 0.2568 - val_loss: 0.2564\n",
      "Epoch 43/600\n",
      "1237/1237 [==============================] - 6s 5ms/step - loss: 0.2565 - val_loss: 0.2566\n",
      "Epoch 44/600\n",
      "1237/1237 [==============================] - 6s 5ms/step - loss: 0.2566 - val_loss: 0.2568\n",
      "Epoch 45/600\n",
      "1237/1237 [==============================] - 6s 5ms/step - loss: 0.2567 - val_loss: 0.2563\n",
      "Epoch 46/600\n",
      "1237/1237 [==============================] - 6s 5ms/step - loss: 0.2565 - val_loss: 0.2567\n",
      "Epoch 47/600\n",
      "1237/1237 [==============================] - 6s 5ms/step - loss: 0.2565 - val_loss: 0.2563\n",
      "Epoch 48/600\n",
      "1237/1237 [==============================] - 6s 5ms/step - loss: 0.2566 - val_loss: 0.2562\n",
      "Epoch 49/600\n",
      "1237/1237 [==============================] - 6s 5ms/step - loss: 0.2563 - val_loss: 0.2564\n",
      "Epoch 50/600\n",
      "1237/1237 [==============================] - 6s 5ms/step - loss: 0.2562 - val_loss: 0.2565\n",
      "Epoch 51/600\n",
      "1237/1237 [==============================] - 6s 5ms/step - loss: 0.2561 - val_loss: 0.2561\n",
      "Epoch 52/600\n",
      "1237/1237 [==============================] - 6s 5ms/step - loss: 0.2562 - val_loss: 0.2566\n",
      "Epoch 53/600\n",
      "1237/1237 [==============================] - 6s 5ms/step - loss: 0.2561 - val_loss: 0.2572\n",
      "Epoch 54/600\n",
      "1237/1237 [==============================] - 6s 5ms/step - loss: 0.2562 - val_loss: 0.2565\n",
      "Epoch 55/600\n",
      "1237/1237 [==============================] - 6s 5ms/step - loss: 0.2559 - val_loss: 0.2565\n",
      "Epoch 56/600\n",
      "1237/1237 [==============================] - 6s 5ms/step - loss: 0.2560 - val_loss: 0.2567\n",
      "Epoch 57/600\n",
      "1237/1237 [==============================] - 6s 5ms/step - loss: 0.2560 - val_loss: 0.2566\n",
      "Epoch 58/600\n",
      "1237/1237 [==============================] - 6s 5ms/step - loss: 0.2561 - val_loss: 0.2565\n",
      "Epoch 59/600\n",
      "1237/1237 [==============================] - 6s 5ms/step - loss: 0.2558 - val_loss: 0.2565\n",
      "Epoch 60/600\n",
      "1237/1237 [==============================] - 6s 5ms/step - loss: 0.2558 - val_loss: 0.2573\n",
      "Epoch 61/600\n",
      "1237/1237 [==============================] - 6s 5ms/step - loss: 0.2557 - val_loss: 0.2564\n",
      "Epoch 62/600\n",
      "1237/1237 [==============================] - 6s 5ms/step - loss: 0.2557 - val_loss: 0.2568\n",
      "Epoch 63/600\n",
      "1237/1237 [==============================] - 6s 5ms/step - loss: 0.2558 - val_loss: 0.2567\n",
      "Epoch 64/600\n",
      "1237/1237 [==============================] - 5s 4ms/step - loss: 0.2553 - val_loss: 0.2568\n",
      "Epoch 65/600\n",
      "1237/1237 [==============================] - 5s 4ms/step - loss: 0.2558 - val_loss: 0.2565\n",
      "Epoch 66/600\n",
      "1237/1237 [==============================] - 6s 5ms/step - loss: 0.2558 - val_loss: 0.2562\n",
      "Epoch 67/600\n",
      "1237/1237 [==============================] - 6s 5ms/step - loss: 0.2556 - val_loss: 0.2573\n",
      "Epoch 68/600\n",
      "1237/1237 [==============================] - 6s 5ms/step - loss: 0.2555 - val_loss: 0.2572\n",
      "Epoch 69/600\n",
      "1237/1237 [==============================] - 6s 5ms/step - loss: 0.2557 - val_loss: 0.2567\n",
      "Epoch 70/600\n",
      "1237/1237 [==============================] - 6s 5ms/step - loss: 0.2555 - val_loss: 0.2566\n",
      "Epoch 71/600\n",
      "1237/1237 [==============================] - 6s 5ms/step - loss: 0.2556 - val_loss: 0.2570\n",
      "Epoch 72/600\n",
      "1237/1237 [==============================] - 6s 5ms/step - loss: 0.2554 - val_loss: 0.2572\n",
      "Epoch 73/600\n",
      "1237/1237 [==============================] - 6s 5ms/step - loss: 0.2555 - val_loss: 0.2570\n",
      "Epoch 74/600\n",
      "1237/1237 [==============================] - 6s 5ms/step - loss: 0.2554 - val_loss: 0.2568\n",
      "Epoch 75/600\n",
      "1237/1237 [==============================] - 6s 5ms/step - loss: 0.2554 - val_loss: 0.2572\n",
      "Epoch 76/600\n",
      "1237/1237 [==============================] - 6s 5ms/step - loss: 0.2556 - val_loss: 0.2574\n",
      "Epoch 76: early stopping\n"
     ]
    },
    {
     "data": {
      "text/plain": [
       "<keras.callbacks.History at 0x285d4f16ca0>"
      ]
     },
     "execution_count": 58,
     "metadata": {},
     "output_type": "execute_result"
    }
   ],
   "source": [
    "model.fit(x=X_train, \n",
    "          y=y_train, \n",
    "          epochs=600,\n",
    "          batch_size=256,\n",
    "          validation_data=(X_test, y_test),callbacks=[early_stop]\n",
    "          )"
   ]
  },
  {
   "cell_type": "code",
   "execution_count": 59,
   "metadata": {},
   "outputs": [],
   "source": [
    "losses= pd.DataFrame(model.history.history)"
   ]
  },
  {
   "cell_type": "code",
   "execution_count": 60,
   "metadata": {},
   "outputs": [
    {
     "data": {
      "text/plain": [
       "<AxesSubplot:>"
      ]
     },
     "execution_count": 60,
     "metadata": {},
     "output_type": "execute_result"
    },
    {
     "data": {
      "image/png": "[encoded data removed]",
      "text/plain": [
       "<Figure size 432x288 with 1 Axes>"
      ]
     },
     "metadata": {
      "needs_background": "light"
     },
     "output_type": "display_data"
    }
   ],
   "source": [
    "losses.plot()"
   ]
  },
  {
   "cell_type": "code",
   "execution_count": 61,
   "metadata": {},
   "outputs": [],
   "source": [
    "from sklearn.metrics import classification_report,confusion_matrix"
   ]
  },
  {
   "cell_type": "code",
   "execution_count": 67,
   "metadata": {},
   "outputs": [
    {
     "name": "stdout",
     "output_type": "stream",
     "text": [
      "2474/2474 [==============================] - 4s 2ms/step\n"
     ]
    }
   ],
   "source": [
    "predictions = (model.predict(X_test) > 0.5).astype(\"int32\")"
   ]
  },
  {
   "cell_type": "code",
   "execution_count": 68,
   "metadata": {},
   "outputs": [
    {
     "name": "stdout",
     "output_type": "stream",
     "text": [
      "              precision    recall  f1-score   support\n",
      "\n",
      "           0       0.97      0.45      0.61     15490\n",
      "           1       0.88      1.00      0.94     63661\n",
      "\n",
      "    accuracy                           0.89     79151\n",
      "   macro avg       0.93      0.72      0.77     79151\n",
      "weighted avg       0.90      0.89      0.87     79151\n",
      "\n"
     ]
    }
   ],
   "source": [
    "print(classification_report(y_test,predictions))"
   ]
  },
  {
   "cell_type": "code",
   "execution_count": 69,
   "metadata": {},
   "outputs": [
    {
     "data": {
      "text/plain": [
       "array([[ 6925,  8565],\n",
       "       [  199, 63462]], dtype=int64)"
      ]
     },
     "execution_count": 69,
     "metadata": {},
     "output_type": "execute_result"
    }
   ],
   "source": [
    "confusion_matrix(y_test,predictions)"
   ]
  },
  {
   "cell_type": "code",
   "execution_count": 71,
   "metadata": {},
   "outputs": [
    {
     "data": {
      "text/plain": [
       "loan_amnt                 6000.00\n",
       "term                         0.00\n",
       "int_rate                    10.49\n",
       "installment                194.99\n",
       "annual_inc              103916.00\n",
       "dti                         14.82\n",
       "open_acc                     7.00\n",
       "pub_rec                      1.00\n",
       "revol_bal                10875.00\n",
       "revol_util                  86.30\n",
       "total_acc                   14.00\n",
       "mort_acc                     1.00\n",
       "pub_rec_bankruptcies         0.00\n",
       "A2                           0.00\n",
       "A3                           0.00\n",
       "A4                           0.00\n",
       "A5                           0.00\n",
       "B1                           0.00\n",
       "B2                           0.00\n",
       "B3                           1.00\n",
       "B4                           0.00\n",
       "B5                           0.00\n",
       "C1                           0.00\n",
       "C2                           0.00\n",
       "C3                           0.00\n",
       "C4                           0.00\n",
       "C5                           0.00\n",
       "D1                           0.00\n",
       "D2                           0.00\n",
       "D3                           0.00\n",
       "D4                           0.00\n",
       "D5                           0.00\n",
       "E1                           0.00\n",
       "E2                           0.00\n",
       "E3                           0.00\n",
       "E4                           0.00\n",
       "E5                           0.00\n",
       "F1                           0.00\n",
       "F2                           0.00\n",
       "F3                           0.00\n",
       "F4                           0.00\n",
       "F5                           0.00\n",
       "G1                           0.00\n",
       "G2                           0.00\n",
       "G3                           0.00\n",
       "G4                           0.00\n",
       "G5                           0.00\n",
       "OTHER                        0.00\n",
       "OWN                          0.00\n",
       "RENT                         1.00\n",
       "05113                        1.00\n",
       "11650                        0.00\n",
       "22690                        0.00\n",
       "29597                        0.00\n",
       "30723                        0.00\n",
       "48052                        0.00\n",
       "70466                        0.00\n",
       "86630                        0.00\n",
       "93700                        0.00\n",
       "earliest_cr_year          2001.00\n",
       "Name: 304917, dtype: float64"
      ]
     },
     "execution_count": 71,
     "metadata": {},
     "output_type": "execute_result"
    }
   ],
   "source": [
    "import random\n",
    "random.seed(101)\n",
    "random_ind = random.randint(0,len(df))\n",
    "\n",
    "new_customer = df.drop('loan_status',axis=1).iloc[random_ind]\n",
    "new_customer"
   ]
  },
  {
   "cell_type": "code",
   "execution_count": 74,
   "metadata": {},
   "outputs": [
    {
     "data": {
      "text/plain": [
       "(60,)"
      ]
     },
     "execution_count": 74,
     "metadata": {},
     "output_type": "execute_result"
    }
   ],
   "source": [
    "new_customer.shape"
   ]
  },
  {
   "cell_type": "code",
   "execution_count": 75,
   "metadata": {},
   "outputs": [
    {
     "name": "stdout",
     "output_type": "stream",
     "text": [
      "1/1 [==============================] - 0s 64ms/step\n"
     ]
    },
    {
     "data": {
      "text/plain": [
       "array([[1.]], dtype=float32)"
      ]
     },
     "execution_count": 75,
     "metadata": {},
     "output_type": "execute_result"
    }
   ],
   "source": [
    "model.predict(new_customer.values.reshape(1,60))"
   ]
  },
  {
   "cell_type": "code",
   "execution_count": 76,
   "metadata": {},
   "outputs": [
    {
     "data": {
      "text/plain": [
       "1.0"
      ]
     },
     "execution_count": 76,
     "metadata": {},
     "output_type": "execute_result"
    }
   ],
   "source": [
    "df.iloc[random_ind]['loan_status']"
   ]
  }
 ],
 "metadata": {
  "kernelspec": {
   "display_name": "Python 3.9.12 ('base')",
   "language": "python",
   "name": "python3"
  },
  "language_info": {
   "codemirror_mode": {
    "name": "ipython",
    "version": 3
   },
   "file_extension": ".py",
   "mimetype": "text/x-python",
   "name": "python",
   "nbconvert_exporter": "python",
   "pygments_lexer": "ipython3",
   "version": "3.9.12"
  },
  "orig_nbformat": 4,
  "vscode": {
   "interpreter": {
    "hash": "04a834920b7def6fd20c473cd69d4248d5cd7791bb116f54149a6750c1f73918"
   }
  }
 },
 "nbformat": 4,
 "nbformat_minor": 2
}
